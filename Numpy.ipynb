{
  "nbformat": 4,
  "nbformat_minor": 0,
  "metadata": {
    "colab": {
      "provenance": []
    },
    "kernelspec": {
      "name": "python3",
      "display_name": "Python 3"
    },
    "language_info": {
      "name": "python"
    }
  },
  "cells": [
    {
      "cell_type": "markdown",
      "source": [
        "Numpy Basics"
      ],
      "metadata": {
        "id": "SWPQ22h85TiE"
      }
    },
    {
      "cell_type": "code",
      "source": [
        "#creating array from list\n",
        "arr=[\"Jeyaveeran\",\"Vignesh\",\"Mani\",10,20]\n",
        "print(arr)\n",
        "#Modifying array from list\n",
        "arr[0]=\"M.Sc\"\n",
        "print(arr)\n",
        "#indexing\n",
        "arr=[\"Jeyaveeran\",\"Vignesh\",\"Mani\",10,20]\n",
        "print(arr[1:3])"
      ],
      "metadata": {
        "id": "7i1VgBhn5dwT",
        "colab": {
          "base_uri": "https://localhost:8080/"
        },
        "outputId": "acec3c3d-f021-493f-864d-9357a122c6aa"
      },
      "execution_count": null,
      "outputs": [
        {
          "output_type": "stream",
          "name": "stdout",
          "text": [
            "['Jeyaveeran', 'Vignesh', 'Mani', 10, 20]\n",
            "['M.Sc', 'Vignesh', 'Mani', 10, 20]\n",
            "['Vignesh', 'Mani']\n"
          ]
        }
      ]
    },
    {
      "cell_type": "code",
      "source": [
        "#Find min,max and mean\n",
        "arr1=[10,20,30,40,50]\n",
        "print(\"minimum value of arr1 is:\",min(arr1))\n",
        "#Max value\n",
        "arr2=[100,200,300,400,500]\n",
        "print(\"maximum value of arr2 is:\",max(arr2))\n",
        "#mean value\n",
        "import numpy as np\n",
        "arr=[10,20,2,7,8,9]\n",
        "print(\"arr:\",arr)\n",
        "print(\"mean of arr:\",np.mean(arr))"
      ],
      "metadata": {
        "colab": {
          "base_uri": "https://localhost:8080/"
        },
        "id": "6nu1tCPE6HF7",
        "outputId": "478c185b-5e9c-42fb-8911-a8947d354bcc"
      },
      "execution_count": null,
      "outputs": [
        {
          "output_type": "stream",
          "name": "stdout",
          "text": [
            "minimum value of arr1 is: 10\n",
            "maximum value of arr2 is: 500\n",
            "arr: [10, 20, 2, 7, 8, 9]\n",
            "mean of arr: 9.333333333333334\n"
          ]
        }
      ]
    },
    {
      "cell_type": "code",
      "source": [
        "#Reshaping and flattening an array\n",
        "import numpy as np\n",
        "arr = np.array([1, 2, 3, 4, 5, 6, 7, 8, 9, 10, 11, 12])\n",
        "newarr = arr.reshape(4, 3)\n",
        "print(newarr)\n",
        "\n",
        "#Flattening an array\n",
        "import numpy as np\n",
        "arr = np.array([[1, 2, 3], [4, 5, 6]])\n",
        "newarr = arr.reshape(-1)\n",
        "print(newarr)"
      ],
      "metadata": {
        "id": "AMon7Av5FxbO",
        "colab": {
          "base_uri": "https://localhost:8080/"
        },
        "outputId": "02d0cb32-49d0-4f76-b695-71b75058f65f"
      },
      "execution_count": null,
      "outputs": [
        {
          "output_type": "stream",
          "name": "stdout",
          "text": [
            "[[ 1  2  3]\n",
            " [ 4  5  6]\n",
            " [ 7  8  9]\n",
            " [10 11 12]]\n",
            "[1 2 3 4 5 6]\n"
          ]
        }
      ]
    },
    {
      "cell_type": "code",
      "source": [
        "#create array 1to10\n",
        "arr=[1,2,3,4,5,6,7,8,9,10]\n",
        "print(arr)\n",
        "\n",
        "#Reverse\n",
        "arr=[1,2,3,4,5,6,7,8,9,10]\n",
        "arr.reverse()\n",
        "print(arr)"
      ],
      "metadata": {
        "colab": {
          "base_uri": "https://localhost:8080/"
        },
        "id": "ElTFRjFYH9V2",
        "outputId": "c5e25961-3898-4316-8848-e81f18e985aa"
      },
      "execution_count": null,
      "outputs": [
        {
          "output_type": "stream",
          "name": "stdout",
          "text": [
            "[1, 2, 3, 4, 5, 6, 7, 8, 9, 10]\n",
            "[10, 9, 8, 7, 6, 5, 4, 3, 2, 1]\n"
          ]
        }
      ]
    },
    {
      "cell_type": "code",
      "source": [
        "#Create two 2x2 array and stack them vertically and horizontally\n",
        "import numpy as np\n",
        "x1=np.array([[10,20,30],[50,60,70]])\n",
        "x2=np.array([[90,100,110],[130,140,150]])\n",
        "\n",
        "#stack the array vertically and horizontally\n",
        "xarray=np.vstack((x1,x2))\n",
        "yarray=np.hstack((x1,x2))\n",
        "print(xarray)\n",
        "print(yarray)"
      ],
      "metadata": {
        "colab": {
          "base_uri": "https://localhost:8080/"
        },
        "id": "KqpPJh_IJQ6a",
        "outputId": "3ad2f648-3f72-4da4-f100-5f2cfffd1aa1"
      },
      "execution_count": null,
      "outputs": [
        {
          "output_type": "stream",
          "name": "stdout",
          "text": [
            "[[ 10  20  30]\n",
            " [ 50  60  70]\n",
            " [ 90 100 110]\n",
            " [130 140 150]]\n",
            "[[ 10  20  30  90 100 110]\n",
            " [ 50  60  70 130 140 150]]\n"
          ]
        }
      ]
    },
    {
      "cell_type": "code",
      "source": [
        "#convert a 1D array of size 9 into 3x3 matrix\n",
        "import numpy as np\n",
        "x=np.array([10,20,30,40,50,60,80,50,40])\n",
        "arr=x.reshape(3,3)\n",
        "print(arr)"
      ],
      "metadata": {
        "colab": {
          "base_uri": "https://localhost:8080/"
        },
        "id": "01FT8E1HJt8b",
        "outputId": "c6ae1871-41b1-40d5-dd3f-191e0c583724"
      },
      "execution_count": null,
      "outputs": [
        {
          "output_type": "stream",
          "name": "stdout",
          "text": [
            "[[10 20 30]\n",
            " [40 50 60]\n",
            " [80 50 40]]\n"
          ]
        }
      ]
    }
  ]
}